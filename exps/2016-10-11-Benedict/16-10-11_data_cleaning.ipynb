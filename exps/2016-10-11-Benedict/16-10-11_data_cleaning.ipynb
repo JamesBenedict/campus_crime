{
 "cells": [
  {
   "cell_type": "code",
   "execution_count": 2,
   "metadata": {
    "collapsed": false
   },
   "outputs": [],
   "source": [
    "%load_ext autoreload\n",
    "%autoreload 2\n",
    "import numpy as np\n",
    "import pandas as pd\n",
    "import os\n",
    "import glob\n",
    "import geopy\n",
    "from geopy.geocoders import Nominatim\n"
   ]
  },
  {
   "cell_type": "code",
   "execution_count": 3,
   "metadata": {
    "collapsed": false
   },
   "outputs": [],
   "source": [
    "path = '../../data/'\n",
    "files = glob.glob(os.path.join(path, '*'))\n",
    "fpath = path+'offical/IU_crime_13-15.csv'\n",
    "# manually changed header names\n",
    "# report_num,date_reported,crime,location,status\n",
    "\n",
    "crime_df = pd.read_csv(fpath, sep=',')\n",
    "\n",
    "report_num = crime_df['report_num']\n",
    "date = crime_df['date']\n",
    "crime= crime_df['crime']\n",
    "location = crime_df['location']\n",
    "status = crime_df['status']\n",
    "\n",
    "\n",
    "\n",
    "# print(crime_df['crime_class'])\n",
    "# print(open(fname).read())"
   ]
  },
  {
   "cell_type": "code",
   "execution_count": 5,
   "metadata": {
    "collapsed": false
   },
   "outputs": [],
   "source": [
    "# counting to see if manually entry is feasible\n",
    "crime_count = crime.value_counts()\n",
    "crime_count.to_csv(path+'descriptive/crime_count.csv')\n",
    "\n",
    "loc_count =  location.value_counts()\n",
    "loc_count.to_csv(path+'descriptive/locations_count.csv')\n",
    "\n",
    "\n"
   ]
  },
  {
   "cell_type": "code",
   "execution_count": 5,
   "metadata": {
    "collapsed": false
   },
   "outputs": [
    {
     "name": "stdout",
     "output_type": "stream",
     "text": [
      "1101, North Fee Lane, Bloomington, Monroe County, Indiana, 47406, United States of America\n",
      "(39.1757814336628, -86.5190803506251)\n"
     ]
    }
   ],
   "source": [
    "geolocator = Nominatim()\n",
    "location = geolocator.geocode(\"1101 N Fee Ln, Bloomington, IN\")\n",
    "print(location.address)\n",
    "print((location.latitude, location.longitude))\n"
   ]
  },
  {
   "cell_type": "code",
   "execution_count": 32,
   "metadata": {
    "collapsed": false
   },
   "outputs": [],
   "source": [
    "location_updates_df = pd.read_csv(path+'/descriptive/location_update.csv', sep=',')\n",
    "# print(location_updates_df['clean_location'])\n",
    "\n",
    "\n",
    "# print(location_updates_df)\n",
    "\n",
    "# dic = location_updates_df.to_dict(orient: 'list')\n",
    "location_dict = location_updates_df.set_index('dirty_location').T.to_dict('list')\n",
    "# print(location_dict)\n",
    "\n",
    "# for i in range(len(location_updates_df)):\n",
    "#     print(location_updates_df['dirty_location'])\n",
    "#     print(location_updates_df['clean_location'])"
   ]
  },
  {
   "cell_type": "code",
   "execution_count": null,
   "metadata": {
    "collapsed": false
   },
   "outputs": [],
   "source": [
    "# crime_df.loc[crime_df['crime'] == 'POSSESSION OF DRUG PARAPHERNALIA', 'crime_class'] = 'Possession'\n",
    "# crime_df.to_csv(path+\"offical/IU_crime_13-15.csv\", index=False)\n"
   ]
  },
  {
   "cell_type": "code",
   "execution_count": 88,
   "metadata": {
    "collapsed": false
   },
   "outputs": [],
   "source": [
    "#        crime_df.loc[crime_df['location'] == location_dirty, 'lat'] = address[0]\n",
    "#         crime_df.loc[crime_df['location'] == location_dirty, 'long'] = address[1]\n",
    "#     else:\n",
    "#         crime_df.loc[crime_df['location'] == location_dirty, 'lat'] = address\n",
    "#         crime_df.loc[crime_df['location'] == location_dirty, 'long'] = address\n",
    "        \n",
    "#         try:\n",
    "#             location = geolocator.geocode(address)\n",
    "#             crime_df.loc[crime_df['location'] == location_dirty, 'lat'] = location.latitude\n",
    "#             crime_df.loc[crime_df['location'] == location_dirty, 'long'] = location.latitude\n",
    "#         except AttributeError:\n",
    "#             pass\n"
   ]
  },
  {
   "cell_type": "code",
   "execution_count": 34,
   "metadata": {
    "collapsed": false
   },
   "outputs": [],
   "source": [
    "# location.replace(to_replace='MCNUTT QUAD', value'')\n",
    "\n",
    "# locations_dict={'MCNUTT QUAD': '1101 N Fee Ln, Bloomington, IN', \n",
    "#                 '10TH STREET/EAST OF JORDA': '1275 E 10th St, Bloomington, IN'\n",
    "#                 ''\n",
    "                \n",
    "#                 }\n",
    "# print(location_dict)\n",
    "for key in location_dict:   \n",
    "    location_dirty = key\n",
    "    address = location_dict[key]\n",
    "    \n",
    "#     print(key, address)\n",
    "#     crime_df.loc[crime_df['location'] == location_dirty, 'address'] = address\n",
    "   \n",
    "#     print(key)\n",
    "    try:\n",
    "        address = address[0].split(',')\n",
    "        crime_df.loc[crime_df['location'] == location_dirty, 'lat'] = address[0]\n",
    "        crime_df.loc[crime_df['location'] == location_dirty, 'long'] = address[1]\n",
    "    except AttributeError:\n",
    "        print('error: blank lat/long')\n",
    "    \n",
    "# print(eval(address[0].split(',')[0]))\n",
    "#     print(len(address))\n",
    "#     print(type(address[0]))\n",
    "\n",
    "#  \n",
    "\n",
    "# save and reload\n",
    "# print(crime_df)\n",
    "crime_df.to_csv(path+\"offical/IU_crime_13-15.csv\", index=False)\n",
    "# crime_df = pd.read_csv(fpath, sep=',')\n",
    "\n",
    "\n",
    "# Series.replace(to_replace=None, value=None, inplace=False, limit=None, regex=False, method='pad', axis=None)¶\n"
   ]
  },
  {
   "cell_type": "code",
   "execution_count": 76,
   "metadata": {
    "collapsed": false
   },
   "outputs": [
    {
     "data": {
      "text/plain": [
       "10"
      ]
     },
     "execution_count": 76,
     "metadata": {},
     "output_type": "execute_result"
    }
   ],
   "source": [
    "5+5"
   ]
  },
  {
   "cell_type": "code",
   "execution_count": null,
   "metadata": {
    "collapsed": true
   },
   "outputs": [],
   "source": []
  }
 ],
 "metadata": {
  "anaconda-cloud": {},
  "kernelspec": {
   "display_name": "Python [Root]",
   "language": "python",
   "name": "Python [Root]"
  },
  "language_info": {
   "codemirror_mode": {
    "name": "ipython",
    "version": 3
   },
   "file_extension": ".py",
   "mimetype": "text/x-python",
   "name": "python",
   "nbconvert_exporter": "python",
   "pygments_lexer": "ipython3",
   "version": "3.5.2"
  }
 },
 "nbformat": 4,
 "nbformat_minor": 0
}
