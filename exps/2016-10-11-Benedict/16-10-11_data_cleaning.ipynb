{
 "cells": [
  {
   "cell_type": "code",
   "execution_count": 2,
   "metadata": {
    "collapsed": false
   },
   "outputs": [],
   "source": [
    "%load_ext autoreload\n",
    "%autoreload 2\n",
    "import numpy as np\n",
    "import pandas as pd\n",
    "import os\n",
    "import glob\n",
    "import geopy\n",
    "from geopy.geocoders import Nominatim\n"
   ]
  },
  {
   "cell_type": "code",
   "execution_count": 3,
   "metadata": {
    "collapsed": false
   },
   "outputs": [],
   "source": [
    "path = '../../data/'\n",
    "files = glob.glob(os.path.join(path, '*'))\n",
    "fpath = path+'offical/IU_crime_13-15.csv'\n",
    "# manually changed header names\n",
    "# report_num,date_reported,crime,location,status\n",
    "\n",
    "crime_df = pd.read_csv(fpath, sep=',')\n",
    "\n",
    "report_num = crime_df['report_num']\n",
    "date = crime_df['date']\n",
    "crime= crime_df['crime']\n",
    "location = crime_df['location']\n",
    "status = crime_df['status']\n",
    "\n",
    "\n",
    "\n",
    "# print(crime_df['crime_class'])\n",
    "# print(open(fname).read())"
   ]
  },
  {
   "cell_type": "code",
   "execution_count": 9,
   "metadata": {
    "collapsed": false
   },
   "outputs": [
    {
     "name": "stdout",
     "output_type": "stream",
     "text": [
      "TRAFFIC ACCIDENTS - PROPERTY DAMAGE ONLY             348\n",
      "ILLEGAL POSSESSION/CONSUMPTION                       298\n",
      "POSSESSION - MARIJUANA                               204\n",
      "THEFT FROM BUILDINGS                                 171\n",
      "VANDALISM MISCHIEF                                   118\n",
      "PUBLIC INTOXICATION                                   87\n",
      "HARASSMENT/INTIMIDATION                               85\n",
      "ASSAULT- SIMPLE NOT AGGRAVATED                        71\n",
      "TRAFFIC ACCIDENTS -HIT & RUN PROPERTY DAMAGE ONLY     60\n",
      "TRAFFIC ACCIDENTS - PERSONAL INJURY                   54\n",
      "DRIVING UNDER THE INFLUENCE                           50\n",
      "THEFT- ALL OTHER                                      49\n",
      "TRESPASS & MALICIOUS TRESPASS                         46\n",
      "THEFT-BICYCLES                                        42\n",
      "FRAUD                                                 40\n",
      "DAMAGED PROPERTY                                      31\n",
      "THEFT FROM MOTOR VEHICLE                              23\n",
      "BURGLARY - UNLAWFUL ENTRY - NO FORCE                  22\n",
      "DISTURBANCES - OTHER                                  20\n",
      "POSSESSION OF DRUG PARAPHERNALIA                      19\n",
      "DRIVING WHILE SUSPENDED                               17\n",
      "THEFT- MOTOR VEHICLE PARTS AND ACCESSORIES            14\n",
      "RAPE                                                  12\n",
      "TRAFFIC ACCIDENTS - HIT & RUN PERSONAL INJURY          8\n",
      "DISORDERLY CONDUCT                                     8\n",
      "THEFT-AUTOS                                            8\n",
      "INDECENT EXPOSURE                                      7\n",
      "ASSAULT - OTHER DANGEROUS WEAPON                       6\n",
      "SHOPLIFTING                                            6\n",
      "POSSESSION - SYNTHETIC NARCOTICS                       6\n",
      "                                                    ... \n",
      "BURGLARY - ATTEMPTED FORCIBLE ENTRY                    3\n",
      "ADVISED OF TRESPASS                                    3\n",
      "RESISTING LAW ENFORCEMENT                              3\n",
      "ASSAULT- KNIFE OR CUTTING INSTRUMENT                   3\n",
      "SALE/MANUFACTURING DANGEROUS NON-NARCOTICS             3\n",
      "POSSESSION - DANGEROUS NON-NARCOTICS                   3\n",
      "NO OPER CHAUFF OR PUBLIC PASS LICENSE                  3\n",
      "MISSING PERSON                                         3\n",
      "NATURAL DEATH                                          2\n",
      "POCKET-PICKING                                         2\n",
      "FORGERY/COUNTERFEITING                                 2\n",
      "NON-CRIMINAL                                           2\n",
      "SPECIAL DETAIL                                         1\n",
      "HABITUAL TRAFFIC VIOLATOR                              1\n",
      "ARSON - TOTAL OTHER-CROPSTIMBERFENCESIGNSETC           1\n",
      "DEATH - ACCIDENTAL                                     1\n",
      "PARKING COMPLAINT OR VIOLATION                         1\n",
      "PURSE-SNATCHING                                        1\n",
      "ABANDONED PROPERTY                                     1\n",
      "OPERATING WITH B.A.C. OF 0.08%                         1\n",
      "ARSON - OTHER RESIDENTIAL                              1\n",
      "FIREWORKS                                              1\n",
      "LIQUOR LAWS - ALL OTHER                                1\n",
      "SALE/MANUFACTURING COCAINE OPIUM DERIVATIVES           1\n",
      "POSSESSION OF FALSE IDENTIFICATION                     1\n",
      "SERVICES - ALL OTHER                                   1\n",
      "SALE/MANUFACTURING SYNTHETIC NARCOTICS                 1\n",
      "BOMBS/BOMB THREATS                                     1\n",
      "911 HANG UP                                            1\n",
      "SECURITY HAZARD                                        1\n",
      "Name: crime, dtype: int64\n"
     ]
    }
   ],
   "source": [
    "# counting to see if manually entry is feasible\n",
    "crime_count = crime.value_counts()\n",
    "# crime_count.to_csv(path+'descriptive/crime_count.csv')\n",
    "\n",
    "loc_count =  location.value_counts()\n",
    "loc_count.to_csv(path+'descriptive/locations_count.csv')\n",
    "\n",
    "\n",
    "print(crime_count)"
   ]
  },
  {
   "cell_type": "code",
   "execution_count": 5,
   "metadata": {
    "collapsed": false
   },
   "outputs": [
    {
     "name": "stdout",
     "output_type": "stream",
     "text": [
      "1101, North Fee Lane, Bloomington, Monroe County, Indiana, 47406, United States of America\n",
      "(39.1757814336628, -86.5190803506251)\n"
     ]
    }
   ],
   "source": [
    "geolocator = Nominatim()\n",
    "location = geolocator.geocode(\"1101 N Fee Ln, Bloomington, IN\")\n",
    "print(location.address)\n",
    "print((location.latitude, location.longitude))\n"
   ]
  },
  {
   "cell_type": "code",
   "execution_count": 32,
   "metadata": {
    "collapsed": false
   },
   "outputs": [],
   "source": [
    "location_updates_df = pd.read_csv(path+'/descriptive/location_update.csv', sep=',')\n",
    "# print(location_updates_df['clean_location'])\n",
    "\n",
    "\n",
    "# print(location_updates_df)\n",
    "\n",
    "# dic = location_updates_df.to_dict(orient: 'list')\n",
    "location_dict = location_updates_df.set_index('dirty_location').T.to_dict('list')\n",
    "# print(location_dict)\n",
    "\n",
    "# for i in range(len(location_updates_df)):\n",
    "#     print(location_updates_df['dirty_location'])\n",
    "#     print(location_updates_df['clean_location'])"
   ]
  },
  {
   "cell_type": "code",
   "execution_count": null,
   "metadata": {
    "collapsed": false
   },
   "outputs": [],
   "source": [
    "# crime_df.loc[crime_df['crime'] == 'POSSESSION OF DRUG PARAPHERNALIA', 'crime_class'] = 'Possession'\n",
    "# crime_df.to_csv(path+\"offical/IU_crime_13-15.csv\", index=False)\n"
   ]
  },
  {
   "cell_type": "code",
   "execution_count": 88,
   "metadata": {
    "collapsed": false
   },
   "outputs": [],
   "source": [
    "#        crime_df.loc[crime_df['location'] == location_dirty, 'lat'] = address[0]\n",
    "#         crime_df.loc[crime_df['location'] == location_dirty, 'long'] = address[1]\n",
    "#     else:\n",
    "#         crime_df.loc[crime_df['location'] == location_dirty, 'lat'] = address\n",
    "#         crime_df.loc[crime_df['location'] == location_dirty, 'long'] = address\n",
    "        \n",
    "#         try:\n",
    "#             location = geolocator.geocode(address)\n",
    "#             crime_df.loc[crime_df['location'] == location_dirty, 'lat'] = location.latitude\n",
    "#             crime_df.loc[crime_df['location'] == location_dirty, 'long'] = location.latitude\n",
    "#         except AttributeError:\n",
    "#             pass\n"
   ]
  },
  {
   "cell_type": "code",
   "execution_count": 34,
   "metadata": {
    "collapsed": false
   },
   "outputs": [],
   "source": [
    "# location.replace(to_replace='MCNUTT QUAD', value'')\n",
    "\n",
    "# locations_dict={'MCNUTT QUAD': '1101 N Fee Ln, Bloomington, IN', \n",
    "#                 '10TH STREET/EAST OF JORDA': '1275 E 10th St, Bloomington, IN'\n",
    "#                 ''\n",
    "                \n",
    "#                 }\n",
    "# print(location_dict)\n",
    "for key in location_dict:   \n",
    "    location_dirty = key\n",
    "    address = location_dict[key]\n",
    "    \n",
    "#     print(key, address)\n",
    "#     crime_df.loc[crime_df['location'] == location_dirty, 'address'] = address\n",
    "   \n",
    "#     print(key)\n",
    "    try:\n",
    "        address = address[0].split(',')\n",
    "        crime_df.loc[crime_df['location'] == location_dirty, 'lat'] = address[0]\n",
    "        crime_df.loc[crime_df['location'] == location_dirty, 'long'] = address[1]\n",
    "    except AttributeError:\n",
    "        print('error: blank lat/long')\n",
    "    \n",
    "# print(eval(address[0].split(',')[0]))\n",
    "#     print(len(address))\n",
    "#     print(type(address[0]))\n",
    "\n",
    "#  \n",
    "\n",
    "# save and reload\n",
    "# print(crime_df)\n",
    "crime_df.to_csv(path+\"offical/IU_crime_13-15.csv\", index=False)\n",
    "# crime_df = pd.read_csv(fpath, sep=',')\n",
    "\n",
    "\n",
    "# Series.replace(to_replace=None, value=None, inplace=False, limit=None, regex=False, method='pad', axis=None)¶\n"
   ]
  },
  {
   "cell_type": "code",
   "execution_count": 76,
   "metadata": {
    "collapsed": false
   },
   "outputs": [
    {
     "data": {
      "text/plain": [
       "10"
      ]
     },
     "execution_count": 76,
     "metadata": {},
     "output_type": "execute_result"
    }
   ],
   "source": [
    "5+5"
   ]
  },
  {
   "cell_type": "code",
   "execution_count": null,
   "metadata": {
    "collapsed": true
   },
   "outputs": [],
   "source": []
  }
 ],
 "metadata": {
  "anaconda-cloud": {},
  "kernelspec": {
   "display_name": "Python [Root]",
   "language": "python",
   "name": "Python [Root]"
  },
  "language_info": {
   "codemirror_mode": {
    "name": "ipython",
    "version": 3
   },
   "file_extension": ".py",
   "mimetype": "text/x-python",
   "name": "python",
   "nbconvert_exporter": "python",
   "pygments_lexer": "ipython3",
   "version": "3.5.2"
  }
 },
 "nbformat": 4,
 "nbformat_minor": 0
}
