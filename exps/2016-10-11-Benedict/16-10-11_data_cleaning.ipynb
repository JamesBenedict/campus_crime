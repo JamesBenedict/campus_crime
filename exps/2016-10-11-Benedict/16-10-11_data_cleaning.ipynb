{
 "cells": [
  {
   "cell_type": "code",
   "execution_count": 1,
   "metadata": {
    "collapsed": true
   },
   "outputs": [],
   "source": [
    "%load_ext autoreload\n",
    "%autoreload 2\n",
    "import pandas as pd\n",
    "import os\n",
    "import glob"
   ]
  },
  {
   "cell_type": "code",
   "execution_count": 23,
   "metadata": {
    "collapsed": false
   },
   "outputs": [],
   "source": [
    "path = '../../data/'\n",
    "files = glob.glob(os.path.join(path, '*'))\n",
    "fpath = path+'offical/IU_crime_13-15.csv'\n",
    "# manually changed header names\n",
    "# report_num,date_reported,crime,location,status\n",
    "\n",
    "crime_df = pd.read_csv(fpath, sep=',')\n",
    "\n",
    "report_num = crime_df['report_num']\n",
    "date = crime_df['date_reported']\n",
    "crime= crime_df['crime']\n",
    "location = crime_df['location']\n",
    "status = crime_df['status']\n",
    "\n",
    "# print(crime_df['crime_class'])\n",
    "# print(open(fname).read())\n"
   ]
  },
  {
   "cell_type": "code",
   "execution_count": 25,
   "metadata": {
    "collapsed": false
   },
   "outputs": [],
   "source": [
    "crime_count = crime.value_counts()\n",
    "crime_count.to_csv(path+'descriptive/crime_count.csv')\n",
    "\n",
    "loc_count = location.value_counts()\n",
    "loc_count.to_csv(path+'descriptive/locations_count.csv')"
   ]
  },
  {
   "cell_type": "code",
   "execution_count": null,
   "metadata": {
    "collapsed": true
   },
   "outputs": [],
   "source": []
  }
 ],
 "metadata": {
  "anaconda-cloud": {},
  "kernelspec": {
   "display_name": "Python [Root]",
   "language": "python",
   "name": "Python [Root]"
  },
  "language_info": {
   "codemirror_mode": {
    "name": "ipython",
    "version": 3
   },
   "file_extension": ".py",
   "mimetype": "text/x-python",
   "name": "python",
   "nbconvert_exporter": "python",
   "pygments_lexer": "ipython3",
   "version": "3.5.2"
  }
 },
 "nbformat": 4,
 "nbformat_minor": 0
}
