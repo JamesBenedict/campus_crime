{
 "cells": [
  {
   "cell_type": "code",
   "execution_count": 8,
   "metadata": {
    "collapsed": false
   },
   "outputs": [
    {
     "name": "stdout",
     "output_type": "stream",
     "text": [
      "The autoreload extension is already loaded. To reload it, use:\n",
      "  %reload_ext autoreload\n"
     ]
    }
   ],
   "source": [
    "%load_ext autoreload\n",
    "%autoreload 2\n",
    "import os\n",
    "import glob\n",
    "import random\n",
    "import re\n",
    "from datetime import *\n",
    "from pprint import pprint\n",
    "from itertools import groupby\n"
   ]
  },
  {
   "cell_type": "code",
   "execution_count": 6,
   "metadata": {
    "collapsed": false
   },
   "outputs": [],
   "source": [
    "path = '../../data/scrapped/text/2016'\n",
    "files = glob.glob(os.path.join(path, '*'))\n",
    "fname = random.choice(files)\n",
    "fname = '../../data/scrapped/text/2016/9-3-16.txt'\n",
    "# print(open(fname).read())\n"
   ]
  },
  {
   "cell_type": "code",
   "execution_count": 7,
   "metadata": {
    "collapsed": false
   },
   "outputs": [
    {
     "name": "stdout",
     "output_type": "stream",
     "text": [
      "['Indiana University, Bloomington',\n",
      " 'Police Department',\n",
      " 'Daily Crime Log',\n",
      " 'From 09/03/2016 00:00 to 09/03/2016 23:59',\n",
      " 'date reported: 09/03/16 - SAT at 00:31',\n",
      " 'location:',\n",
      " 'cad event #:',\n",
      " '16-09-03-018167',\n",
      " 'FOREST QUAD, 1725 E. 3RD, 8TH OF EAST TOWER',\n",
      " 'incident: POSSESSION - MARIJUANA',\n",
      " 'final incident: POSSESSION - MARIJUANA',\n",
      " 'disposition: FAILED TO LOCATE',\n",
      " 'modified date: 09/03/16 - SAT at 00:45',\n",
      " 'date reported: 09/03/16 - SAT at 01:01',\n",
      " 'general location:',\n",
      " 'report #:',\n",
      " '162000',\n",
      " 'INDIANA AVENUE/SOUTH OF 1OTH STR - Public property',\n",
      " 'date occurred from: 09/03/16 - SAT at 01:01',\n",
      " 'date occurred to:',\n",
      " '09/03/16 - SAT at 01:02',\n",
      " 'incident/offenses:',\n",
      " 'LIQUOR LAWS - ILLEGAL POSSESSION/CONSUMPTION',\n",
      " 'disposition: CLOSED CASE- ARREST',\n",
      " 'modified date: 09/03/16 - SAT at 02:43',\n",
      " 'date reported: 09/03/16 - SAT at 01:45',\n",
      " 'general location:',\n",
      " 'report #:',\n",
      " '162001',\n",
      " 'BRISCOE QUAD - On Campus - in any student residential facility',\n",
      " 'date occurred from: 09/03/16 - SAT at 01:40',\n",
      " 'date occurred to:',\n",
      " '09/03/16 - SAT at 02:47',\n",
      " 'incident/offenses:',\n",
      " 'LIQUOR LAWS - ILLEGAL POSSESSION/CONSUMPTION',\n",
      " 'disposition: CLOSED CASE- ARREST',\n",
      " 'modified date: 09/05/16 - MON at 13:13',\n",
      " 'date reported: 09/03/16 - SAT at 02:23',\n",
      " 'general location:',\n",
      " 'report #:',\n",
      " '162002',\n",
      " 'MCNUTT QUAD - On Campus - in any student residential facility',\n",
      " 'date occurred from: 09/03/16 - SAT at 02:23',\n",
      " 'date occurred to:',\n",
      " '09/03/16 - SAT at 02:50',\n",
      " 'incident/offenses:',\n",
      " 'LIQUOR LAWS - ILLEGAL POSSESSION/CONSUMPTION',\n",
      " 'disposition: CLOSED CASE- ARREST',\n",
      " 'modified date: 09/03/16 - SAT at 03:54',\n",
      " 'date reported: 09/03/16 - SAT at 02:59',\n",
      " 'general location:',\n",
      " 'report #:',\n",
      " '162003',\n",
      " '7TH STREET/EAST OF JORDAN - On Campus',\n",
      " 'date occurred from: 09/03/16 - SAT at 02:59',\n",
      " 'date occurred to:',\n",
      " '09/03/16 - SAT at 03:22',\n",
      " 'incident/offenses:',\n",
      " 'LIQUOR LAWS - ILLEGAL POSSESSION/CONSUMPTION',\n",
      " 'disposition: CLOSED CASE- ARREST',\n",
      " 'modified date: 09/03/16 - SAT at 05:15',\n",
      " 'Indiana University, Bloomington',\n",
      " 'Police Department',\n",
      " 'Daily Crime Log',\n",
      " 'From 09/03/2016 00:00 to 09/03/2016 23:59',\n",
      " 'date reported: 09/03/16 - SAT at 14:31',\n",
      " 'location:',\n",
      " 'cad event #:',\n",
      " '16-09-03-018198',\n",
      " 'Spruce Hall, 1801 E. JONES AVE',\n",
      " 'incident: POSSESSION - MARIJUANA',\n",
      " 'final incident: POSSESSION - MARIJUANA',\n",
      " 'disposition: FAILED TO LOCATE',\n",
      " 'modified date: 09/03/16 - SAT at 14:48',\n",
      " 'date reported: 09/03/16 - SAT at 20:27',\n",
      " 'general location:',\n",
      " 'report #:',\n",
      " '162006',\n",
      " 'TETER QUAD - On Campus - in any student residential facility',\n",
      " 'date occurred from: 09/03/16 - SAT at 20:09',\n",
      " 'date occurred to:',\n",
      " '09/03/16 - SAT at 20:10',\n",
      " 'incident/offenses:',\n",
      " 'ALL OTHER OFFENSES - HARASSMENT/INTIMIDATION',\n",
      " 'disposition: OPEN CASE',\n",
      " 'modified date: 09/03/16 - SAT at 23:33',\n",
      " 'date reported: 09/03/16 - SAT at 21:07',\n",
      " 'general location:',\n",
      " 'report #:',\n",
      " '162007',\n",
      " '46 BYPASS/WEST OF GOLF CO - Public property',\n",
      " 'date occurred from: 09/03/16 - SAT at 21:06',\n",
      " 'date occurred to:',\n",
      " '09/03/16 - SAT at 21:10',\n",
      " 'incident/offenses:',\n",
      " 'ALL OTHER OFFENSES - RESISTING LAW ENFORCEMENT',\n",
      " 'disposition: OPEN CASE',\n",
      " 'modified date: 09/06/16 - TUE at 09:25',\n",
      " 'date reported: 09/03/16 - SAT at 22:14',\n",
      " 'location:',\n",
      " 'cad event #:',\n",
      " '16-09-03-018226',\n",
      " 'cad event #:',\n",
      " '16-09-03-018227',\n",
      " 'FOREST QUAD, 1725 E. 3RD',\n",
      " 'incident: POSSESSION - MARIJUANA',\n",
      " 'final incident: POSSESSION - MARIJUANA',\n",
      " 'disposition: NO CASE REPORT',\n",
      " 'modified date: 09/03/16 - SAT at 22:28',\n",
      " 'date reported: 09/03/16 - SAT at 22:16',\n",
      " 'location:',\n",
      " 'WILLKIE SOUTH, 150 N. ROSE, ROOM 812B',\n",
      " 'incident: POSSESSION - MARIJUANA',\n",
      " 'final incident: POSSESSION - MARIJUANA',\n",
      " 'disposition: FAILED TO LOCATE',\n",
      " 'modified date: 09/03/16 - SAT at 22:36',\n",
      " 'date reported: 09/03/16 - SAT at 22:32',\n",
      " 'general location:',\n",
      " 'report #:',\n",
      " '162008',\n",
      " 'TETER QUAD COMMON AREA - On Campus',\n",
      " 'date occurred from: 09/03/16 - SAT at 22:32',\n",
      " 'date occurred to:',\n",
      " '09/03/16 - SAT at 23:08',\n",
      " 'incident/offenses:',\n",
      " 'ALL OTHER OFFENSES - RESISTING LAW ENFORCEMENT // COURT SERVICE - COURT '\n",
      " 'SERVICE WARRANT, SUMMONS, SUBPOENA, ETC // LIQUOR LAWS - ILLEGAL '\n",
      " 'POSSESSION/CONSUMPTION //',\n",
      " 'NARCOTIC/DRUG LAWS - POSSESSION - MARIJUANA',\n",
      " 'disposition: CLOSED CASE- ARREST',\n",
      " 'modified date: 09/04/16 - SUN at 00:46']\n"
     ]
    }
   ],
   "source": [
    "class Formater():\n",
    "    \"\"\" class for formatting the 2016 txt from pdf data in a more consistent manner \"\"\"\n",
    "\n",
    "    def __init__(self, content):\n",
    "        self.info = []\n",
    "        self.spacing(content)\n",
    "        \n",
    "    def spacing(self, content):\n",
    "        line_itr = iter(content.splitlines())\n",
    "        for line in line_itr:\n",
    "            if len(line) > 0:\n",
    "                self.info.append(line)\n",
    "            \n",
    "            \n",
    "                \n",
    "r = Formater(open(fname).read())\n",
    "pprint(r.info)"
   ]
  },
  {
   "cell_type": "code",
   "execution_count": null,
   "metadata": {
    "collapsed": true
   },
   "outputs": [],
   "source": [
    "\n"
   ]
  }
 ],
 "metadata": {
  "anaconda-cloud": {},
  "kernelspec": {
   "display_name": "Python [Root]",
   "language": "python",
   "name": "Python [Root]"
  },
  "language_info": {
   "codemirror_mode": {
    "name": "ipython",
    "version": 3
   },
   "file_extension": ".py",
   "mimetype": "text/x-python",
   "name": "python",
   "nbconvert_exporter": "python",
   "pygments_lexer": "ipython3",
   "version": "3.5.2"
  }
 },
 "nbformat": 4,
 "nbformat_minor": 0
}
