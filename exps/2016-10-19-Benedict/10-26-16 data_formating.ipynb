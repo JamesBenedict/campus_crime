{
 "cells": [
  {
   "cell_type": "code",
   "execution_count": 22,
   "metadata": {
    "collapsed": false
   },
   "outputs": [
    {
     "name": "stdout",
     "output_type": "stream",
     "text": [
      "The autoreload extension is already loaded. To reload it, use:\n",
      "  %reload_ext autoreload\n"
     ]
    }
   ],
   "source": [
    "%load_ext autoreload\n",
    "%autoreload 2\n",
    "import os\n",
    "import glob\n",
    "import random\n",
    "import re\n",
    "from datetime import *\n",
    "from pprint import pprint\n"
   ]
  },
  {
   "cell_type": "code",
   "execution_count": 40,
   "metadata": {
    "collapsed": false
   },
   "outputs": [
    {
     "name": "stdout",
     "output_type": "stream",
     "text": [
      "Indiana University, Bloomington\n",
      "\n",
      "Police Department\n",
      "Daily crime log report\n",
      "from 06/23/2016 00:00 to 06/23/2016 23:59\n",
      "date reported: 06/23/16 - THU at 04:50\n",
      "general location:\n",
      "\n",
      "report #:\n",
      "\n",
      "161499\n",
      "\n",
      "INDIANA AVENUE/SOUTH OF 1OTH STR - Public property\n",
      "\n",
      "date occurred from: 06/23/16 - THU at 04:40\n",
      "date occurred to:\n",
      "\n",
      "06/23/16 - THU at 04:50\n",
      "\n",
      "incident/offenses:\n",
      "\n",
      "VANDALISM, MISCHIEF\n",
      "\n",
      "disposition: OPEN CASE\n",
      "modified date: 06/23/16 - THU at 21:11\n",
      "date reported: 06/23/16 - THU at 14:21\n",
      "general location:\n",
      "\n",
      "report #:\n",
      "\n",
      "161500\n",
      "\n",
      "TETER QUAD - On Campus - in any student residential facility\n",
      "\n",
      "date occurred from: 06/21/16 - TUE at 00:00\n",
      "date occurred to:\n",
      "\n",
      "06/23/16 - THU at 14:28\n",
      "\n",
      "incident/offenses:\n",
      "\n",
      "FRAUD\n",
      "\n",
      "disposition: OPEN CASE\n",
      "modified date: 06/25/16 - SAT at 09:08\n",
      "date reported: 06/23/16 - THU at 18:59\n",
      "general location:\n",
      "\n",
      "report #:\n",
      "\n",
      "161503\n",
      "\n",
      "VON LEE LOT - On Campus\n",
      "\n",
      "date occurred from: 06/23/16 - THU at 18:55\n",
      "date occurred to:\n",
      "\n",
      "06/23/16 - THU at 18:59\n",
      "\n",
      "incident/offenses:\n",
      "\n",
      "DISORDERLY CONDUCT//ASSAULT- SIMPLE\n",
      "\n",
      "disposition: CLOSED CASE- NO ARREST\n",
      "modified date: 06/23/16 - THU at 20:56\n",
      "date reported: 06/23/16 - THU at 23:30\n",
      "general location:\n",
      "\n",
      "report #:\n",
      "\n",
      "161504\n",
      "\n",
      "ALL OTHER NON-UNIVERSITY – 3335 South Acadia Court\n",
      "\n",
      "date occurred from: 06/23/16 - THU at 23:20\n",
      "date occurred to:\n",
      "\n",
      "06/23/16 - THU at 23:30\n",
      "\n",
      "incident/offenses:\n",
      "\n",
      "DISORDERLY CONDUCT//ASSAULT- SIMPLE\n",
      "\n",
      "disposition: CLOSED CASE- NO ARREST\n",
      "modified date: 06/24/16 - FRI at 01:29\n",
      "\n",
      "\f",
      "\n"
     ]
    }
   ],
   "source": [
    "path = '../../data/scrapped/text/2016'\n",
    "files = glob.glob(os.path.join(path, '*'))\n",
    "fname = random.choice(files)\n",
    "\n",
    "print(open(fname).read())\n"
   ]
  },
  {
   "cell_type": "code",
   "execution_count": 41,
   "metadata": {
    "collapsed": false
   },
   "outputs": [
    {
     "name": "stdout",
     "output_type": "stream",
     "text": [
      "['Indiana University, Bloomington',\n",
      " 'Police Department',\n",
      " 'Daily crime log report',\n",
      " 'from 06/23/2016 00:00 to 06/23/2016 23:59',\n",
      " 'date reported: 06/23/16 - THU at 04:50',\n",
      " 'general location:',\n",
      " 'report #:',\n",
      " '161499',\n",
      " 'INDIANA AVENUE/SOUTH OF 1OTH STR - Public property',\n",
      " 'date occurred from: 06/23/16 - THU at 04:40',\n",
      " 'date occurred to:',\n",
      " '06/23/16 - THU at 04:50',\n",
      " 'incident/offenses:',\n",
      " 'VANDALISM, MISCHIEF',\n",
      " 'disposition: OPEN CASE',\n",
      " 'modified date: 06/23/16 - THU at 21:11',\n",
      " 'date reported: 06/23/16 - THU at 14:21',\n",
      " 'general location:',\n",
      " 'report #:',\n",
      " '161500',\n",
      " 'TETER QUAD - On Campus - in any student residential facility',\n",
      " 'date occurred from: 06/21/16 - TUE at 00:00',\n",
      " 'date occurred to:',\n",
      " '06/23/16 - THU at 14:28',\n",
      " 'incident/offenses:',\n",
      " 'FRAUD',\n",
      " 'disposition: OPEN CASE',\n",
      " 'modified date: 06/25/16 - SAT at 09:08',\n",
      " 'date reported: 06/23/16 - THU at 18:59',\n",
      " 'general location:',\n",
      " 'report #:',\n",
      " '161503',\n",
      " 'VON LEE LOT - On Campus',\n",
      " 'date occurred from: 06/23/16 - THU at 18:55',\n",
      " 'date occurred to:',\n",
      " '06/23/16 - THU at 18:59',\n",
      " 'incident/offenses:',\n",
      " 'DISORDERLY CONDUCT//ASSAULT- SIMPLE',\n",
      " 'disposition: CLOSED CASE- NO ARREST',\n",
      " 'modified date: 06/23/16 - THU at 20:56',\n",
      " 'date reported: 06/23/16 - THU at 23:30',\n",
      " 'general location:',\n",
      " 'report #:',\n",
      " '161504',\n",
      " 'ALL OTHER NON-UNIVERSITY – 3335 South Acadia Court',\n",
      " 'date occurred from: 06/23/16 - THU at 23:20',\n",
      " 'date occurred to:',\n",
      " '06/23/16 - THU at 23:30',\n",
      " 'incident/offenses:',\n",
      " 'DISORDERLY CONDUCT//ASSAULT- SIMPLE',\n",
      " 'disposition: CLOSED CASE- NO ARREST',\n",
      " 'modified date: 06/24/16 - FRI at 01:29']\n"
     ]
    }
   ],
   "source": [
    "class Formater():\n",
    "    \"\"\" class for formatting the 2016 txt from pdf data in a more consistent manner \"\"\"\n",
    "\n",
    "    def __init__(self, content):\n",
    "        self.info = []\n",
    "        self.spacing(content)\n",
    "        \n",
    "    def spacing(self, content):\n",
    "        line_itr = iter(content.splitlines())\n",
    "        for line in line_itr:\n",
    "            if len(line) > 0:\n",
    "                self.info.append(line)\n",
    "            \n",
    "            \n",
    "                \n",
    "r = Formater(open(fname).read())\n",
    "pprint(r.info)"
   ]
  },
  {
   "cell_type": "code",
   "execution_count": null,
   "metadata": {
    "collapsed": true
   },
   "outputs": [],
   "source": [
    "\n"
   ]
  }
 ],
 "metadata": {
  "anaconda-cloud": {},
  "kernelspec": {
   "display_name": "Python [Root]",
   "language": "python",
   "name": "Python [Root]"
  },
  "language_info": {
   "codemirror_mode": {
    "name": "ipython",
    "version": 3
   },
   "file_extension": ".py",
   "mimetype": "text/x-python",
   "name": "python",
   "nbconvert_exporter": "python",
   "pygments_lexer": "ipython3",
   "version": "3.5.2"
  }
 },
 "nbformat": 4,
 "nbformat_minor": 0
}
