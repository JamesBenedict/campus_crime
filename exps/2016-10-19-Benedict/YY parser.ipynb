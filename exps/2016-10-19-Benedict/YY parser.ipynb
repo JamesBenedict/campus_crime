{
 "cells": [
  {
   "cell_type": "code",
   "execution_count": 1,
   "metadata": {
    "collapsed": false
   },
   "outputs": [
    {
     "ename": "ImportError",
     "evalue": "No module named 'iucrime'",
     "output_type": "error",
     "traceback": [
      "\u001b[0;31m---------------------------------------------------------------------------\u001b[0m",
      "\u001b[0;31mImportError\u001b[0m                               Traceback (most recent call last)",
      "\u001b[0;32m<ipython-input-1-5fd01c573a64>\u001b[0m in \u001b[0;36m<module>\u001b[0;34m()\u001b[0m\n\u001b[1;32m      9\u001b[0m \u001b[0;34m\u001b[0m\u001b[0m\n\u001b[1;32m     10\u001b[0m \u001b[0;34m\u001b[0m\u001b[0m\n\u001b[0;32m---> 11\u001b[0;31m \u001b[0;32mfrom\u001b[0m \u001b[0miucrime\u001b[0m\u001b[0;34m.\u001b[0m\u001b[0mrecords\u001b[0m \u001b[0;32mimport\u001b[0m \u001b[0mRecord\u001b[0m\u001b[0;34m\u001b[0m\u001b[0m\n\u001b[0m",
      "\u001b[0;31mImportError\u001b[0m: No module named 'iucrime'"
     ]
    }
   ],
   "source": [
    "%load_ext autoreload\n",
    "%autoreload 2\n",
    "import os\n",
    "import glob\n",
    "import random\n",
    "import re\n",
    "from datetime import *\n",
    "from pprint import pprint\n",
    "\n",
    "\n",
    "s"
   ]
  },
  {
   "cell_type": "code",
   "execution_count": 23,
   "metadata": {
    "collapsed": false
   },
   "outputs": [
    {
     "name": "stdout",
     "output_type": "stream",
     "text": [
      "../../data/scrapped/text/2013/1-1-13.txt\n",
      "Indiana University, Bloomington\n",
      "Police Department\n",
      "Student Right To Know CAD Daily Log\n",
      "\n",
      "From Jan 01, 2013 to Jan 01, 2013.\n",
      "Date Reported: 01/01/13 - TUE at 23:49\n",
      "Location : INDIANA MEMORIAL UNION\n",
      "Date and Time Occurred From - Occurred To\n",
      "01/01/13 - TUE at 23:45 - 01/01/13 - TUE at 23:52\n",
      "Incident : ALL OTHER OFFENSES - TRESPASS & MALICIOUS TRESPASS\n",
      "Disposition: CLOSED BY ARREST\n",
      "\n",
      "Event #: 13-01-01-000047\n",
      "Report #: 130002\n",
      "\n",
      "1 Incidents Listed.\n",
      "\n",
      "Print Date and Time\n",
      "\n",
      "1/2/2013\n",
      "\n",
      "6:02:05PM\n",
      "\n",
      "at Page No.\n",
      "\n",
      "1\n",
      "\n",
      "\f",
      "\n"
     ]
    }
   ],
   "source": [
    "path = '../../data/scrapped/text/2013'\n",
    "files = glob.glob(os.path.join(path, '*'))\n",
    "# fname = random.choice(files)\n",
    "# fname = open(path+'/1-4-13.txt').read()\n",
    "\n",
    "# print(open(path+'/1-4-13.txt').read())\n",
    "fname = path + '/1-1-13.txt'\n",
    "print(fname)\n",
    "print(open(fname).read())"
   ]
  },
  {
   "cell_type": "code",
   "execution_count": 33,
   "metadata": {
    "collapsed": false
   },
   "outputs": [],
   "source": [
    "\"\"\" module for parsing text files that are converted from pdfs \"\"\"\n",
    "import re\n",
    "from datetime import datetime\n",
    "\n",
    "class Record():\n",
    "    \"\"\" class for keeping the daily IU police log \"\"\"\n",
    "\n",
    "    INFO_PATTERN = re.compile('^(location|incident|disposition|event #|report #)\\s*:\\s*(.+)', re.IGNORECASE)\n",
    "    TIME_PATTERN = re.compile('^date and time occurred.*from.*to', re.IGNORECASE)\n",
    "\n",
    "    def __init__(self, content):\n",
    "        self.info = {} \n",
    "        self.parse(content)\n",
    "\n",
    "    def parse(self, content):\n",
    "        line_itr = iter(content.splitlines())\n",
    "        for line in line_itr:\n",
    "            m = re.search(Record.INFO_PATTERN, line)\n",
    "            if m:\n",
    "                key = m.group(1).lower().replace('#', 'number')\n",
    "                val = m.group(2).lower()\n",
    "                self.info[key] = val\n",
    "                continue\n",
    "\n",
    "            if re.match(Record.TIME_PATTERN, line):\n",
    "                line = next(line_itr)\n",
    "                t_from, t_to = self.parse_from_to_time(line)\n",
    "                self.info['from datetime'] = t_from\n",
    "                self.info['to datetime'] = t_to\n",
    "\n",
    "    def parse_from_to_time(self, timestr):\n",
    "        fromdate, fromtime, todate, totime = timestr.split('-')\n",
    "        fromtime = fromtime.split('at')[1].strip()\n",
    "        totime = totime.split('at')[1].strip()\n",
    "        t_from = datetime.strptime(' '.join([fromdate.strip(), fromtime]), '%m/%d/%y %H:%M')\n",
    "        t_to = datetime.strptime(' '.join([todate.strip(), totime]), '%m/%d/%y %H:%M')\n",
    "        return (t_from, t_to)\n",
    "    \n",
    "r = Record(open(fname).read())\n",
    "# assert(r.info['location'] == 'indiana memorial union')\n",
    "# assert(r.info['incident'] == 'all other offenses - trespass & malicious trespass')\n",
    "#pprint(r.info)\n",
    "\n"
   ]
  },
  {
   "cell_type": "code",
   "execution_count": 35,
   "metadata": {
    "collapsed": false
   },
   "outputs": [
    {
     "data": {
      "text/plain": [
       "{'disposition': 'closed by arrest',\n",
       " 'event number': '13-01-01-000047',\n",
       " 'from datetime': datetime.datetime(2013, 1, 1, 23, 45),\n",
       " 'incident': 'all other offenses - trespass & malicious trespass',\n",
       " 'location': 'indiana memorial union',\n",
       " 'report number': '130002',\n",
       " 'to datetime': datetime.datetime(2013, 1, 1, 23, 52)}"
      ]
     },
     "execution_count": 35,
     "metadata": {},
     "output_type": "execute_result"
    }
   ],
   "source": [
    "r.info"
   ]
  },
  {
   "cell_type": "code",
   "execution_count": 38,
   "metadata": {
    "collapsed": false
   },
   "outputs": [
    {
     "name": "stdout",
     "output_type": "stream",
     "text": [
      "{'disposition': 'closed by arrest',\n",
      " 'event number': '13-01-01-000047',\n",
      " 'from datetime': datetime.datetime(2013, 1, 1, 23, 45),\n",
      " 'incident': 'all other offenses - trespass & malicious trespass',\n",
      " 'location': 'indiana memorial union',\n",
      " 'report number': '130002',\n",
      " 'to datetime': datetime.datetime(2013, 1, 1, 23, 52)}\n"
     ]
    }
   ],
   "source": [
    "pprint(r.info)"
   ]
  },
  {
   "cell_type": "code",
   "execution_count": null,
   "metadata": {
    "collapsed": true
   },
   "outputs": [],
   "source": []
  }
 ],
 "metadata": {
  "anaconda-cloud": {},
  "kernelspec": {
   "display_name": "Python [Root]",
   "language": "python",
   "name": "Python [Root]"
  },
  "language_info": {
   "codemirror_mode": {
    "name": "ipython",
    "version": 3
   },
   "file_extension": ".py",
   "mimetype": "text/x-python",
   "name": "python",
   "nbconvert_exporter": "python",
   "pygments_lexer": "ipython3",
   "version": "3.5.2"
  }
 },
 "nbformat": 4,
 "nbformat_minor": 0
}
