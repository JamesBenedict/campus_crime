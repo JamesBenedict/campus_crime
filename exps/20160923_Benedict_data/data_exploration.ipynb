{
 "cells": [
  {
   "cell_type": "code",
   "execution_count": 6,
   "metadata": {
    "collapsed": false
   },
   "outputs": [],
   "source": [
    "%load_ext autoreload\n",
    "%autoreload 2\n",
    "import os\n",
    "import glob\n",
    "import random\n",
    "import re\n",
    "from pprint import pprint\n",
    "import datetime\n",
    "#from iucrime.records import Record"
   ]
  },
  {
   "cell_type": "code",
   "execution_count": 12,
   "metadata": {
    "collapsed": false
   },
   "outputs": [],
   "source": [
    "path = '../../data/text'\n",
    "files = glob.glob(os.path.join(path, '*'))"
   ]
  },
  {
   "cell_type": "markdown",
   "metadata": {},
   "source": [
    "Let's just pick one data file and take a look"
   ]
  },
  {
   "cell_type": "code",
   "execution_count": 24,
   "metadata": {
    "collapsed": false
   },
   "outputs": [
    {
     "name": "stdout",
     "output_type": "stream",
     "text": [
      "Indiana University, Bloomington\n",
      "Police Department\n",
      "Student Right To Know CAD Daily Log\n",
      "\n",
      "From Jan 01, 2013 to Jan 01, 2013.\n",
      "Date Reported: 01/01/13 - TUE at 23:49\n",
      "Location : INDIANA MEMORIAL UNION\n",
      "Date and Time Occurred From - Occurred To\n",
      "01/01/13 - TUE at 23:45 - 01/01/13 - TUE at 23:52\n",
      "Incident : ALL OTHER OFFENSES - TRESPASS & MALICIOUS TRESPASS\n",
      "Disposition: CLOSED BY ARREST\n",
      "\n",
      "Event #: 13-01-01-000047\n",
      "Report #: 130002\n",
      "\n",
      "1 Incidents Listed.\n",
      "\n",
      "Print Date and Time\n",
      "\n",
      "1/2/2013\n",
      "\n",
      "6:02:05PM\n",
      "\n",
      "at Page No.\n",
      "\n",
      "1\n",
      "\n",
      "\f",
      "\n"
     ]
    }
   ],
   "source": [
    "# fname = random.choice(files)\n",
    "# fname\n",
    "fname = '../../data/text/2013/1-1-13.txt'\n",
    "print(open(fname).read())"
   ]
  },
  {
   "cell_type": "code",
   "execution_count": 26,
   "metadata": {
    "collapsed": false
   },
   "outputs": [
    {
     "name": "stdout",
     "output_type": "stream",
     "text": [
      "Indiana University, Bloomington\n",
      "Police Department\n",
      "Student Right To Know CAD Daily Log\n",
      "\n",
      "From Jan 02, 2013 to Jan 02, 2013.\n",
      "Event #: 13-01-02-000048\n",
      "Date Reported: 01/02/13 - WED at 02:18\n",
      "Location : ALL OTHER NON-UNIVERSITY\n",
      "Date and Time Occurred From - Occurred To\n",
      "01/02/13 - WED at 02:16 - 01/02/13 - WED at 02:18\n",
      "Incident : DRUNK DRIVING - DRIVING UNDER THE INFLUENCE\n",
      "Report #: 130003\n",
      "Disposition: CLOSED BY ARREST\n",
      "Date Reported: 01/02/13 - WED at 20:55\n",
      "Location : TETER QUAD\n",
      "Date and Time Occurred From - Occurred To\n",
      "12/11/12 - TUE at 14:00 - 12/12/12 - WED at 22:00\n",
      "Incident : LARCENY-THEFT - FROM BUILDINGS\n",
      "Disposition: ACTIVE\n",
      "Date Reported: 01/02/13 - WED at 21:33\n",
      "Location : 1200 BLOCK N JORDAN AVE\n",
      "Date and Time Occurred From - Occurred To\n",
      "10/26/12 - FRI at 01:30 - 10/26/12 - FRI at 03:30\n",
      "Incident : SEX OFF/NON-FORCIBLE - ALL OTHER-Non Forcible\n",
      "Disposition: INACTIVE\n",
      "\n",
      "Event #: 13-01-02-000098\n",
      "Report #: 130005\n",
      "Event #: 13-01-02-000103\n",
      "Report #: 130006\n",
      "\n",
      "3 Incidents Listed.\n",
      "\n",
      "Print Date and Time\n",
      "\n",
      "1/4/2013\n",
      "\n",
      "12:36:39PM\n",
      "\n",
      "at Page No.\n",
      "\n",
      "1\n",
      "\n",
      "\f",
      "\n"
     ]
    }
   ],
   "source": [
    "fname = '../../data/text/2013/1-2-13.txt'\n",
    "print(open(fname).read())"
   ]
  },
  {
   "cell_type": "code",
   "execution_count": 24,
   "metadata": {
    "collapsed": false
   },
   "outputs": [],
   "source": [
    "# sorter\n",
    "def incident_count(file):\n",
    "    incidents = re.compile('[\\d] Incident', re.IGNORECASE)\n",
    "    line_itr = iter(file.splitlines())\n",
    "    \n",
    "    count = 0\n",
    "    \n",
    "    for line in line_itr:\n",
    "        m = re.search(incidents, line)\n",
    "        if m:\n",
    "            return '{}'.format(m.group(0))\n",
    "            \n",
    "def incident_sort(): \n",
    "    r = incident_count(open(fname).read())\n",
    "    count = int(r[0])\n",
    "    \n",
    "    if count == 1:\n",
    "        r = Record(open(fname).read())\n",
    "        pprint(r.info)\n",
    "    elif count > 1:\n",
    "        print('you need a multiple parse')\n",
    "    elif count == 0:\n",
    "        print('Error, no listed incident count')\n",
    "        \n"
   ]
  },
  {
   "cell_type": "code",
   "execution_count": null,
   "metadata": {
    "collapsed": true
   },
   "outputs": [],
   "source": []
  },
  {
   "cell_type": "code",
   "execution_count": 125,
   "metadata": {
    "collapsed": false
   },
   "outputs": [
    {
     "name": "stdout",
     "output_type": "stream",
     "text": [
      "('Location', 'ALL OTHER')\n",
      "('Incident', 'DRUNK DRIVING - DRIVING UNDER THE')\n",
      "('Disposition', 'CLOSED BY')\n",
      "('Location', 'TETER')\n",
      "('Incident', 'LARCENY-THEFT - FROM')\n",
      "('Location', '1200 BLOCK N JORDAN')\n",
      "('Incident', 'SEX OFF/NON-FORCIBLE - ALL OTHER-Non')\n",
      "{'disposition': 'closed by',\n",
      " 'from datetime': datetime.datetime(2012, 10, 26, 1, 30),\n",
      " 'incident': 'sex off/non-forcible - all other-non',\n",
      " 'location': '1200 block n jordan',\n",
      " 'to datetime': datetime.datetime(2012, 10, 26, 3, 30)}\n"
     ]
    }
   ],
   "source": [
    "# multiples chunker\n",
    "# if incident count > 1\n",
    "# for the number of incidents\n",
    "#     when the first pattern is matched,\n",
    "#             appened to a list\n",
    "#       for each match add to a list\n",
    "    \n",
    "\n",
    "\n",
    "class Record():\n",
    "    \"\"\" class for keeping the daily IU police log \"\"\"\n",
    "\n",
    "    INFO_PATTERN = re.compile('^(location|incident|disposition|event #|report #)\\s*:\\s*(.+)\\s', re.IGNORECASE)\n",
    "    TIME_PATTERN = re.compile('^date and time occurred.*from.*to', re.IGNORECASE)\n",
    "    \n",
    "    def __init__(self, content):\n",
    "        self.info = {}  \n",
    "        self.parse(content)\n",
    "    \n",
    "    \n",
    "    \n",
    "    def parse(self, content):\n",
    "        line_itr = iter(content.splitlines())\n",
    "        \n",
    "        \n",
    "\n",
    "        for line in line_itr:\n",
    "            m = re.findall((Record.INFO_PATTERN), line)\n",
    "            if m:\n",
    "\n",
    "#                 key = m.group(1).lower().replace('#', 'number')\n",
    "#                 val = m.group(2).lower()\n",
    "#                 self.info[key] = val\n",
    "                key = m[0][0].lower().replace('#', 'number')\n",
    "                val = m[0][1].lower()\n",
    "#                 key += str(i)\n",
    "                self.info[key] = val\n",
    "                print(m[0])\n",
    "                continue\n",
    "\n",
    "\n",
    "            if re.findall(Record.TIME_PATTERN, line):\n",
    "                line = next(line_itr)\n",
    "                t_from, t_to = self.parse_from_to_time(line)\n",
    "                self.info['from datetime'] = t_from\n",
    "                self.info['to datetime'] = t_to\n",
    "\n",
    "    def parse_from_to_time(self, timestr):\n",
    "        fromdate, fromtime, todate, totime = timestr.split('-')\n",
    "        fromtime = fromtime.split('at')[1].strip()\n",
    "        totime = totime.split('at')[1].strip()\n",
    "        t_from = datetime.datetime.strptime(' '.join([fromdate.strip(), fromtime]), '%m/%d/%y %H:%M')\n",
    "        t_to = datetime.datetime.strptime(' '.join([todate.strip(), totime]), '%m/%d/%y %H:%M')\n",
    "        return (t_from, t_to)\n",
    "                \n",
    "\n",
    "\n",
    "# # assert(r.info['location'] == 'indiana memorial union')\n",
    "# # assert(r.info['incident'] == 'all other offenses - trespass & malicious trespass')\n",
    "\n",
    "r = Record(open(fname).read())\n",
    "pprint(r.info)\n",
    "\n",
    "\n",
    "\n",
    "\n",
    "\n",
    "    "
   ]
  },
  {
   "cell_type": "code",
   "execution_count": 130,
   "metadata": {
    "collapsed": false
   },
   "outputs": [
    {
     "name": "stdout",
     "output_type": "stream",
     "text": [
      "{}\n"
     ]
    }
   ],
   "source": [
    "\n",
    "\n",
    "class Record():\n",
    "    \"\"\" class for keeping the daily IU police log \"\"\"\n",
    "\n",
    "    INFO_PATTERN = re.compile('^(location|incident|disposition|event #|report #)\\s*:\\s*(.+)$', re.IGNORECASE)\n",
    "    TIME_PATTERN = re.compile('^date and time occurred.*from.*to', re.IGNORECASE)\n",
    "    \n",
    "    def __init__(self, content):\n",
    "        self.info = {}  \n",
    "        self.parse(content)\n",
    "    \n",
    "\n",
    "    \n",
    "    def parse(self, content):\n",
    "        line_itr = iter(content.splitlines())\n",
    "        incidents = 3\n",
    "        \n",
    "       \n",
    "        for line in line_itr:\n",
    "            m = re.search(Record.INFO_PATTERN, line)\n",
    "            if m:\n",
    "                key = m.group(1).lower().replace('#', 'number')\n",
    "\n",
    "                val = m.group(2).lower()\n",
    "                self.info[key] = val\n",
    "                continue\n",
    "\n",
    "#             if re.match(Record.TIME_PATTERN, line):\n",
    "#                 line = next(line_itr)\n",
    "#                 t_from, t_to = self.parse_from_to_time(line)\n",
    "#                 self.info['from datetime'] = t_from\n",
    "#                 self.info['to datetime'] = t_to\n",
    "                \n",
    "#     def parse_from_to_time(self, timestr):\n",
    "#         fromdate, fromtime, todate, totime = timestr.split('-')\n",
    "#         fromtime = fromtime.split('at')[1].strip()\n",
    "#         totime = totime.split('at')[1].strip()\n",
    "#         t_from = datetime.datetime.strptime(' '.join([fromdate.strip(), fromtime]), '%m/%d/%y %H:%M')\n",
    "#         t_to = datetime.datetime.strptime(' '.join([todate.strip(), totime]), '%m/%d/%y %H:%M')\n",
    "#         return (t_from, t_to)\n",
    "                \n",
    "\n",
    "\n",
    "# # assert(r.info['location'] == 'indiana memorial union')\n",
    "# # assert(r.info['incident'] == 'all other offenses - trespass & malicious trespass')\n",
    "\n",
    "r = Record(open(fname).read())\n",
    "pprint(r.info)\n",
    "\n",
    "# incident_sort()\n"
   ]
  },
  {
   "cell_type": "code",
   "execution_count": 52,
   "metadata": {
    "collapsed": false
   },
   "outputs": [
    {
     "name": "stdout",
     "output_type": "stream",
     "text": [
      "{'disposition0': 'inactive',\n",
      " 'event number0': '13-01-02-000103',\n",
      " 'from datetime': datetime.datetime(2012, 10, 26, 1, 30),\n",
      " 'incident0': 'sex off/non-forcible - all other-non forcible',\n",
      " 'location0': '1200 block n jordan ave',\n",
      " 'report number0': '130006',\n",
      " 'to datetime': datetime.datetime(2012, 10, 26, 3, 30)}\n",
      "{'disposition0': 'inactive',\n",
      " 'event number0': '13-01-02-000103',\n",
      " 'from datetime': datetime.datetime(2012, 10, 26, 1, 30),\n",
      " 'incident0': 'sex off/non-forcible - all other-non forcible',\n",
      " 'location0': '1200 block n jordan ave',\n",
      " 'report number0': '130006',\n",
      " 'to datetime': datetime.datetime(2012, 10, 26, 3, 30)}\n"
     ]
    }
   ],
   "source": [
    "\n",
    "\n",
    "# class Record():\n",
    "#     \"\"\" class for keeping the daily IU police log \"\"\"\n",
    "\n",
    "#     INFO_PATTERN = re.compile('^(location|incident|disposition|event #|report #)\\s*:\\s*(.+)', re.IGNORECASE)\n",
    "#     TIME_PATTERN = re.compile('^date and time occurred.*from.*to', re.IGNORECASE)\n",
    "    \n",
    "#     def __init__(self, content):\n",
    "#         self.info = {}  \n",
    "#         self.parse(content)\n",
    "    \n",
    "\n",
    "    \n",
    "#     def parse(self, content):\n",
    "#         line_itr = iter(content.splitlines())\n",
    "#         incidents = 3\n",
    "        \n",
    "       \n",
    "#         for line in line_itr:\n",
    "#             m = re.search(Record.INFO_PATTERN, line)\n",
    "#             if m:\n",
    "#                 key = m.group(1).lower().replace('#', 'number')\n",
    "\n",
    "#                 val = m.group(2).lower()\n",
    "#                 self.info[key] = val\n",
    "#                 continue\n",
    "\n",
    "#             if re.match(Record.TIME_PATTERN, line):\n",
    "#                 line = next(line_itr)\n",
    "#                 t_from, t_to = self.parse_from_to_time(line)\n",
    "#                 self.info['from datetime'] = t_from\n",
    "#                 self.info['to datetime'] = t_to\n",
    "                \n",
    "#     def parse_from_to_time(self, timestr):\n",
    "#         fromdate, fromtime, todate, totime = timestr.split('-')\n",
    "#         fromtime = fromtime.split('at')[1].strip()\n",
    "#         totime = totime.split('at')[1].strip()\n",
    "#         t_from = datetime.datetime.strptime(' '.join([fromdate.strip(), fromtime]), '%m/%d/%y %H:%M')\n",
    "#         t_to = datetime.datetime.strptime(' '.join([todate.strip(), totime]), '%m/%d/%y %H:%M')\n",
    "#         return (t_from, t_to)\n",
    "                \n",
    "\n",
    "\n",
    "# # assert(r.info['location'] == 'indiana memorial union')\n",
    "# # assert(r.info['incident'] == 'all other offenses - trespass & malicious trespass')\n",
    "\n",
    "r = Record(open(fname).read())\n",
    "pprint(r.info)\n",
    "\n",
    "# incident_sort()\n"
   ]
  },
  {
   "cell_type": "code",
   "execution_count": null,
   "metadata": {
    "collapsed": true
   },
   "outputs": [],
   "source": []
  }
 ],
 "metadata": {
  "anaconda-cloud": {},
  "kernelspec": {
   "display_name": "Python [Root]",
   "language": "python",
   "name": "Python [Root]"
  },
  "language_info": {
   "codemirror_mode": {
    "name": "ipython",
    "version": 3
   },
   "file_extension": ".py",
   "mimetype": "text/x-python",
   "name": "python",
   "nbconvert_exporter": "python",
   "pygments_lexer": "ipython3",
   "version": "3.5.2"
  }
 },
 "nbformat": 4,
 "nbformat_minor": 1
}
