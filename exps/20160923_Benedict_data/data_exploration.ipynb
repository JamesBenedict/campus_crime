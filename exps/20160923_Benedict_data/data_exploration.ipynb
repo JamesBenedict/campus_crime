{
 "cells": [
  {
   "cell_type": "code",
   "execution_count": 6,
   "metadata": {
    "collapsed": false
   },
   "outputs": [],
   "source": [
    "%load_ext autoreload\n",
    "%autoreload 2\n",
    "import os\n",
    "import glob\n",
    "import random\n",
    "import re\n",
    "from pprint import pprint\n",
    "import datetime\n",
    "#from iucrime.records import Record"
   ]
  },
  {
   "cell_type": "code",
   "execution_count": 12,
   "metadata": {
    "collapsed": false
   },
   "outputs": [],
   "source": [
    "path = '../../data/text'\n",
    "files = glob.glob(os.path.join(path, '*'))"
   ]
  },
  {
   "cell_type": "markdown",
   "metadata": {},
   "source": [
    "Let's just pick one data file and take a look"
   ]
  },
  {
   "cell_type": "code",
   "execution_count": 24,
   "metadata": {
    "collapsed": false
   },
   "outputs": [
    {
     "name": "stdout",
     "output_type": "stream",
     "text": [
      "Indiana University, Bloomington\n",
      "Police Department\n",
      "Student Right To Know CAD Daily Log\n",
      "\n",
      "From Jan 01, 2013 to Jan 01, 2013.\n",
      "Date Reported: 01/01/13 - TUE at 23:49\n",
      "Location : INDIANA MEMORIAL UNION\n",
      "Date and Time Occurred From - Occurred To\n",
      "01/01/13 - TUE at 23:45 - 01/01/13 - TUE at 23:52\n",
      "Incident : ALL OTHER OFFENSES - TRESPASS & MALICIOUS TRESPASS\n",
      "Disposition: CLOSED BY ARREST\n",
      "\n",
      "Event #: 13-01-01-000047\n",
      "Report #: 130002\n",
      "\n",
      "1 Incidents Listed.\n",
      "\n",
      "Print Date and Time\n",
      "\n",
      "1/2/2013\n",
      "\n",
      "6:02:05PM\n",
      "\n",
      "at Page No.\n",
      "\n",
      "1\n",
      "\n",
      "\f",
      "\n"
     ]
    }
   ],
   "source": [
    "# fname = random.choice(files)\n",
    "# fname\n",
    "fname = '../../data/text/2013/1-1-13.txt'\n",
    "print(open(fname).read())"
   ]
  },
  {
   "cell_type": "code",
   "execution_count": 21,
   "metadata": {
    "collapsed": false
   },
   "outputs": [
    {
     "name": "stdout",
     "output_type": "stream",
     "text": [
      "Indiana University, Bloomington\n",
      "Police Department\n",
      "Student Right To Know CAD Daily Log\n",
      "\n",
      "From Jan 01, 2013 to Jan 01, 2013.\n",
      "Date Reported: 01/01/13 - TUE at 23:49\n",
      "Location : INDIANA MEMORIAL UNION\n",
      "Date and Time Occurred From - Occurred To\n",
      "01/01/13 - TUE at 23:45 - 01/01/13 - TUE at 23:52\n",
      "Incident : ALL OTHER OFFENSES - TRESPASS & MALICIOUS TRESPASS\n",
      "Disposition: CLOSED BY ARREST\n",
      "\n",
      "Event #: 13-01-01-000047\n",
      "Report #: 130002\n",
      "\n",
      "1 Incidents Listed.\n",
      "\n",
      "Print Date and Time\n",
      "\n",
      "1/2/2013\n",
      "\n",
      "6:02:05PM\n",
      "\n",
      "at Page No.\n",
      "\n",
      "1\n",
      "\n",
      "\f",
      "\n"
     ]
    }
   ],
   "source": [
    "fname = '../../data/text/2013/1-1-13.txt'\n",
    "print(open(fname).read())"
   ]
  },
  {
   "cell_type": "code",
   "execution_count": 22,
   "metadata": {
    "collapsed": false
   },
   "outputs": [
    {
     "ename": "IndentationError",
     "evalue": "expected an indented block (<ipython-input-22-a87a999794d1>, line 20)",
     "output_type": "error",
     "traceback": [
      "\u001b[0;36m  File \u001b[0;32m\"<ipython-input-22-a87a999794d1>\"\u001b[0;36m, line \u001b[0;32m20\u001b[0m\n\u001b[0;31m    elif count == 0:\u001b[0m\n\u001b[0m       ^\u001b[0m\n\u001b[0;31mIndentationError\u001b[0m\u001b[0;31m:\u001b[0m expected an indented block\n"
     ]
    }
   ],
   "source": [
    "def incident_count(file):\n",
    "    incidents = re.compile('[\\d] Incident', re.IGNORECASE)\n",
    "    line_itr = iter(file.splitlines())\n",
    "    \n",
    "    count = 0\n",
    "    \n",
    "    for line in line_itr:\n",
    "        m = re.search(incidents, line)\n",
    "        if m:\n",
    "            return '{}'.format(m.group(0))\n",
    "            \n",
    "def incident_sort(): \n",
    "    r = incident_count(open(fname).read())\n",
    "    count = int(r[0])\n",
    "    \n",
    "    if count == 1:\n",
    "        contiune\n",
    "    elif count > 1:\n",
    "#         multiple sorter\n",
    "    elif count == 0:\n",
    "        print('Error, no listed incident count')\n",
    "        \n",
    "\n",
    "incident_sort()"
   ]
  },
  {
   "cell_type": "code",
   "execution_count": 23,
   "metadata": {
    "collapsed": false
   },
   "outputs": [
    {
     "name": "stdout",
     "output_type": "stream",
     "text": [
      "{'disposition': 'closed by arrest',\n",
      " 'event number': '13-01-01-000047',\n",
      " 'from datetime': datetime.datetime(2013, 1, 1, 23, 45),\n",
      " 'incident': 'all other offenses - trespass & malicious trespass',\n",
      " 'location': 'indiana memorial union',\n",
      " 'report number': '130002',\n",
      " 'to datetime': datetime.datetime(2013, 1, 1, 23, 52)}\n"
     ]
    }
   ],
   "source": [
    "def incident_count(file):\n",
    "    incidents = re.compile('[\\d] Incident', re.IGNORECASE)\n",
    "    line_itr = iter(file.splitlines())\n",
    "    \n",
    "    count = 0\n",
    "    \n",
    "    for line in line_itr:\n",
    "        m = re.search(incidents, line)\n",
    "        if m:\n",
    "            return '{}'.format(m.group(0))\n",
    "            \n",
    "def incident_sort(): \n",
    "    r = incident_count(open(fname).read())\n",
    "    count = int(r[0])\n",
    "    \n",
    "    if count == 1:\n",
    "        r = Record(open(fname).read())\n",
    "        pprint(r.info)\n",
    "    elif count > 1:\n",
    "        print('you need a multiple parse')\n",
    "    elif count == 0:\n",
    "        print('Error, no listed incident count')\n",
    "        \n",
    "\n",
    "\n",
    "class Record():\n",
    "    \"\"\" class for keeping the daily IU police log \"\"\"\n",
    "\n",
    "    INFO_PATTERN = re.compile('^(location|incident|disposition|event #|report #)\\s*:\\s*(.+)', re.IGNORECASE)\n",
    "    TIME_PATTERN = re.compile('^date and time occurred.*from.*to', re.IGNORECASE)\n",
    "    \n",
    "    def __init__(self, content):\n",
    "        self.info = {}  \n",
    "        self.parse(content)\n",
    "\n",
    "    def parse(self, content):\n",
    "        line_itr = iter(content.splitlines())\n",
    "        for line in line_itr:\n",
    "            m = re.search(Record.INFO_PATTERN, line)\n",
    "            if m:\n",
    "                key = m.group(1).lower().replace('#', 'number')\n",
    "                val = m.group(2).lower()\n",
    "                self.info[key] = val\n",
    "                continue\n",
    "                \n",
    "            if re.match(Record.TIME_PATTERN, line):\n",
    "                line = next(line_itr)\n",
    "                t_from, t_to = self.parse_from_to_time(line)\n",
    "                self.info['from datetime'] = t_from\n",
    "                self.info['to datetime'] = t_to\n",
    "                \n",
    "    def parse_from_to_time(self, timestr):\n",
    "        fromdate, fromtime, todate, totime = timestr.split('-')\n",
    "        fromtime = fromtime.split('at')[1].strip()\n",
    "        totime = totime.split('at')[1].strip()\n",
    "        t_from = datetime.datetime.strptime(' '.join([fromdate.strip(), fromtime]), '%m/%d/%y %H:%M')\n",
    "        t_to = datetime.datetime.strptime(' '.join([todate.strip(), totime]), '%m/%d/%y %H:%M')\n",
    "        return (t_from, t_to)\n",
    "                \n",
    "# r = Record(open(fname).read())\n",
    "\n",
    "# # assert(r.info['location'] == 'indiana memorial union')\n",
    "# # assert(r.info['incident'] == 'all other offenses - trespass & malicious trespass')\n",
    "\n",
    "# pprint(r.info)\n",
    "\n",
    "incident_sort()\n"
   ]
  },
  {
   "cell_type": "code",
   "execution_count": null,
   "metadata": {
    "collapsed": true
   },
   "outputs": [],
   "source": []
  }
 ],
 "metadata": {
  "anaconda-cloud": {},
  "kernelspec": {
   "display_name": "Python [Root]",
   "language": "python",
   "name": "Python [Root]"
  },
  "language_info": {
   "codemirror_mode": {
    "name": "ipython",
    "version": 3
   },
   "file_extension": ".py",
   "mimetype": "text/x-python",
   "name": "python",
   "nbconvert_exporter": "python",
   "pygments_lexer": "ipython3",
   "version": "3.5.2"
  }
 },
 "nbformat": 4,
 "nbformat_minor": 1
}
