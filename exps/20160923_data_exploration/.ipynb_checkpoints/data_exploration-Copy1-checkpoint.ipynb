{
 "cells": [
  {
   "cell_type": "code",
   "execution_count": 11,
   "metadata": {
    "collapsed": false
   },
   "outputs": [
    {
     "name": "stdout",
     "output_type": "stream",
     "text": [
      "The autoreload extension is already loaded. To reload it, use:\n",
      "  %reload_ext autoreload\n"
     ]
    }
   ],
   "source": [
    "%load_ext autoreload\n",
    "%autoreload 2\n",
    "import os\n",
    "import glob\n",
    "import random\n",
    "#from iucrime.records import Record"
   ]
  },
  {
   "cell_type": "code",
   "execution_count": 12,
   "metadata": {
    "collapsed": false
   },
   "outputs": [],
   "source": [
    "path = '../../data/text'\n",
    "files = glob.glob(os.path.join(path, '*'))"
   ]
  },
  {
   "cell_type": "markdown",
   "metadata": {},
   "source": [
    "Let's just pick one data file and take a look"
   ]
  },
  {
   "cell_type": "code",
   "execution_count": 24,
   "metadata": {
    "collapsed": false
   },
   "outputs": [
    {
     "name": "stdout",
     "output_type": "stream",
     "text": [
      "Indiana University, Bloomington\n",
      "Police Department\n",
      "Student Right To Know CAD Daily Log\n",
      "\n",
      "From Jan 01, 2013 to Jan 01, 2013.\n",
      "Date Reported: 01/01/13 - TUE at 23:49\n",
      "Location : INDIANA MEMORIAL UNION\n",
      "Date and Time Occurred From - Occurred To\n",
      "01/01/13 - TUE at 23:45 - 01/01/13 - TUE at 23:52\n",
      "Incident : ALL OTHER OFFENSES - TRESPASS & MALICIOUS TRESPASS\n",
      "Disposition: CLOSED BY ARREST\n",
      "\n",
      "Event #: 13-01-01-000047\n",
      "Report #: 130002\n",
      "\n",
      "1 Incidents Listed.\n",
      "\n",
      "Print Date and Time\n",
      "\n",
      "1/2/2013\n",
      "\n",
      "6:02:05PM\n",
      "\n",
      "at Page No.\n",
      "\n",
      "1\n",
      "\n",
      "\f",
      "\n"
     ]
    }
   ],
   "source": [
    "# fname = random.choice(files)\n",
    "# fname\n",
    "fname = '../../data/text/2013/1-1-13.txt'\n",
    "print(open(fname).read())"
   ]
  },
  {
   "cell_type": "code",
   "execution_count": 26,
   "metadata": {
    "collapsed": false
   },
   "outputs": [
    {
     "name": "stdout",
     "output_type": "stream",
     "text": [
      "Indiana University, Bloomington\n",
      "Police Department\n",
      "Student Right To Know CAD Daily Log\n",
      "\n",
      "From Jan 02, 2013 to Jan 02, 2013.\n",
      "Event #: 13-01-02-000048\n",
      "Date Reported: 01/02/13 - WED at 02:18\n",
      "Location : ALL OTHER NON-UNIVERSITY\n",
      "Date and Time Occurred From - Occurred To\n",
      "01/02/13 - WED at 02:16 - 01/02/13 - WED at 02:18\n",
      "Incident : DRUNK DRIVING - DRIVING UNDER THE INFLUENCE\n",
      "Report #: 130003\n",
      "Disposition: CLOSED BY ARREST\n",
      "Date Reported: 01/02/13 - WED at 20:55\n",
      "Location : TETER QUAD\n",
      "Date and Time Occurred From - Occurred To\n",
      "12/11/12 - TUE at 14:00 - 12/12/12 - WED at 22:00\n",
      "Incident : LARCENY-THEFT - FROM BUILDINGS\n",
      "Disposition: ACTIVE\n",
      "Date Reported: 01/02/13 - WED at 21:33\n",
      "Location : 1200 BLOCK N JORDAN AVE\n",
      "Date and Time Occurred From - Occurred To\n",
      "10/26/12 - FRI at 01:30 - 10/26/12 - FRI at 03:30\n",
      "Incident : SEX OFF/NON-FORCIBLE - ALL OTHER-Non Forcible\n",
      "Disposition: INACTIVE\n",
      "\n",
      "Event #: 13-01-02-000098\n",
      "Report #: 130005\n",
      "Event #: 13-01-02-000103\n",
      "Report #: 130006\n",
      "\n",
      "3 Incidents Listed.\n",
      "\n",
      "Print Date and Time\n",
      "\n",
      "1/4/2013\n",
      "\n",
      "12:36:39PM\n",
      "\n",
      "at Page No.\n",
      "\n",
      "1\n",
      "\n",
      "\f",
      "\n"
     ]
    }
   ],
   "source": [
    "fname = '../../data/text/2013/1-2-13.txt'\n",
    "print(open(fname).read())"
   ]
  },
  {
   "cell_type": "code",
   "execution_count": 18,
   "metadata": {
    "collapsed": false
   },
   "outputs": [
    {
     "name": "stdout",
     "output_type": "stream",
     "text": [
      "{'disposition': 'inactive',\n",
      " 'event number': '13-01-02-000103',\n",
      " 'from datetime': datetime.datetime(2012, 10, 26, 1, 30),\n",
      " 'incident': 'sex off/non-forcible - all other-non forcible',\n",
      " 'location': '1200 block n jordan ave',\n",
      " 'report number': '130006',\n",
      " 'to datetime': datetime.datetime(2012, 10, 26, 3, 30)}\n"
     ]
    }
   ],
   "source": [
    "import re\n",
    "from pprint import pprint\n",
    "import datetime\n",
    "\n",
    "class Record():\n",
    "    \"\"\" class for keeping the daily IU police log \"\"\"\n",
    "\n",
    "    INFO_PATTERN = re.compile('^(location|incident|disposition|event #|report #)\\s*:\\s*(.+)', re.IGNORECASE)\n",
    "    TIME_PATTERN = re.compile('^date and time occurred.*from.*to', re.IGNORECASE)\n",
    "    \n",
    "    def __init__(self, content):\n",
    "        self.info = {}  \n",
    "        self.parse(content)\n",
    "\n",
    "    def parse(self, content):\n",
    "        line_itr = iter(content.splitlines())\n",
    "        for line in line_itr:\n",
    "            m = re.search(Record.INFO_PATTERN, line)\n",
    "            if m:\n",
    "                key = m.group(1).lower().replace('#', 'number')\n",
    "                val = m.group(2).lower()\n",
    "                self.info[key] = val\n",
    "                continue\n",
    "                \n",
    "            if re.match(Record.TIME_PATTERN, line):\n",
    "                line = next(line_itr)\n",
    "                t_from, t_to = self.parse_from_to_time(line)\n",
    "                self.info['from datetime'] = t_from\n",
    "                self.info['to datetime'] = t_to\n",
    "                \n",
    "    def parse_from_to_time(self, timestr):\n",
    "        fromdate, fromtime, todate, totime = timestr.split('-')\n",
    "        fromtime = fromtime.split('at')[1].strip()\n",
    "        totime = totime.split('at')[1].strip()\n",
    "        t_from = datetime.datetime.strptime(' '.join([fromdate.strip(), fromtime]), '%m/%d/%y %H:%M')\n",
    "        t_to = datetime.datetime.strptime(' '.join([todate.strip(), totime]), '%m/%d/%y %H:%M')\n",
    "        return (t_from, t_to)\n",
    "                \n",
    "r = Record(open(fname).read())\n",
    "\n",
    "# assert(r.info['location'] == 'indiana memorial union')\n",
    "# assert(r.info['incident'] == 'all other offenses - trespass & malicious trespass')\n",
    "\n",
    "pprint(r.info)"
   ]
  },
  {
   "cell_type": "code",
   "execution_count": null,
   "metadata": {
    "collapsed": true
   },
   "outputs": [],
   "source": []
  }
 ],
 "metadata": {
  "anaconda-cloud": {},
  "kernelspec": {
   "display_name": "Python [Root]",
   "language": "python",
   "name": "Python [Root]"
  },
  "language_info": {
   "codemirror_mode": {
    "name": "ipython",
    "version": 3
   },
   "file_extension": ".py",
   "mimetype": "text/x-python",
   "name": "python",
   "nbconvert_exporter": "python",
   "pygments_lexer": "ipython3",
   "version": "3.5.2"
  }
 },
 "nbformat": 4,
 "nbformat_minor": 1
}
