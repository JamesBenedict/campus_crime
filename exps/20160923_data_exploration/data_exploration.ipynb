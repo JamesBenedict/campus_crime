{
 "cells": [
  {
   "cell_type": "code",
   "execution_count": 11,
   "metadata": {
    "collapsed": false
   },
   "outputs": [
    {
     "name": "stdout",
     "output_type": "stream",
     "text": [
      "The autoreload extension is already loaded. To reload it, use:\n",
      "  %reload_ext autoreload\n"
     ]
    }
   ],
   "source": [
    "%load_ext autoreload\n",
    "%autoreload 2\n",
    "import os\n",
    "import glob\n",
    "import random\n",
    "from pprint import pprint\n",
    "from iucrime.records import Record"
   ]
  },
  {
   "cell_type": "code",
   "execution_count": 2,
   "metadata": {
    "collapsed": false
   },
   "outputs": [],
   "source": [
    "path = '../../data/text'\n",
    "files = glob.glob(os.path.join(path, '*'))"
   ]
  },
  {
   "cell_type": "markdown",
   "metadata": {},
   "source": [
    "Let's just pick one data file and take a look"
   ]
  },
  {
   "cell_type": "code",
   "execution_count": 22,
   "metadata": {
    "collapsed": false
   },
   "outputs": [
    {
     "name": "stdout",
     "output_type": "stream",
     "text": [
      "{'disposition': 'closed by arrest',\n",
      " 'event number': '13-01-01-000047',\n",
      " 'from datetime': datetime.datetime(2013, 1, 1, 23, 45),\n",
      " 'incident': 'all other offenses - trespass & malicious trespass',\n",
      " 'location': 'indiana memorial union',\n",
      " 'report number': '130002',\n",
      " 'to datetime': datetime.datetime(2013, 1, 1, 23, 52)}\n"
     ]
    }
   ],
   "source": [
    "fname = '../../data/text/2013/1-1-13.txt'\n",
    "r = Record(open(fname).read())\n",
    "pprint(r.info)"
   ]
  },
  {
   "cell_type": "code",
   "execution_count": 8,
   "metadata": {
    "collapsed": false
   },
   "outputs": [
    {
     "name": "stdout",
     "output_type": "stream",
     "text": [
      "Indiana University, Bloomington\n",
      "Police Department\n",
      "Student Right To Know CAD Daily Log\n",
      "\n",
      "From Jan 01, 2013 to Jan 01, 2013.\n",
      "Date Reported: 01/01/13 - TUE at 23:49\n",
      "Location : INDIANA MEMORIAL UNION\n",
      "Date and Time Occurred From - Occurred To\n",
      "01/01/13 - TUE at 23:45 - 01/01/13 - TUE at 23:52\n",
      "Incident : ALL OTHER OFFENSES - TRESPASS & MALICIOUS TRESPASS\n",
      "Disposition: CLOSED BY ARREST\n",
      "\n",
      "Event #: 13-01-01-000047\n",
      "Report #: 130002\n",
      "\n",
      "1 Incidents Listed.\n",
      "\n",
      "Print Date and Time\n",
      "\n",
      "1/2/2013\n",
      "\n",
      "6:02:05PM\n",
      "\n",
      "at Page No.\n",
      "\n",
      "1\n",
      "\n",
      "\f",
      "\n"
     ]
    }
   ],
   "source": [
    "print(open(fname).read())"
   ]
  },
  {
   "cell_type": "code",
   "execution_count": null,
   "metadata": {
    "collapsed": true
   },
   "outputs": [],
   "source": []
  },
  {
   "cell_type": "code",
   "execution_count": null,
   "metadata": {
    "collapsed": true
   },
   "outputs": [],
   "source": []
  }
 ],
 "metadata": {
  "anaconda-cloud": {},
  "kernelspec": {
   "display_name": "Python 3",
   "language": "python",
   "name": "python3"
  },
  "language_info": {
   "codemirror_mode": {
    "name": "ipython",
    "version": 3
   },
   "file_extension": ".py",
   "mimetype": "text/x-python",
   "name": "python",
   "nbconvert_exporter": "python",
   "pygments_lexer": "ipython3",
   "version": "3.5.2"
  }
 },
 "nbformat": 4,
 "nbformat_minor": 1
}
