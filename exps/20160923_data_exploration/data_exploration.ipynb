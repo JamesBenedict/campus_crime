{
 "cells": [
  {
   "cell_type": "code",
   "execution_count": 11,
   "metadata": {
    "collapsed": false
   },
   "outputs": [
    {
     "name": "stdout",
     "output_type": "stream",
     "text": [
      "The autoreload extension is already loaded. To reload it, use:\n",
      "  %reload_ext autoreload\n"
     ]
    }
   ],
   "source": [
    "%load_ext autoreload\n",
    "%autoreload 2\n",
    "import os\n",
    "import glob\n",
    "import random\n",
    "#from iucrime.records import Record"
   ]
  },
  {
   "cell_type": "code",
   "execution_count": 12,
   "metadata": {
    "collapsed": false
   },
   "outputs": [],
   "source": [
    "path = '../../data/text'\n",
    "files = glob.glob(os.path.join(path, '*'))"
   ]
  },
  {
   "cell_type": "markdown",
   "metadata": {},
   "source": [
    "Let's just pick one data file and take a look"
   ]
  },
  {
   "cell_type": "code",
   "execution_count": 30,
   "metadata": {
    "collapsed": false
   },
   "outputs": [],
   "source": [
    "# fname = random.choice(files)\n",
    "# fname\n",
    "fname = '../../data/text/1-1-14.txt'"
   ]
  },
  {
   "cell_type": "code",
   "execution_count": 31,
   "metadata": {
    "collapsed": false
   },
   "outputs": [
    {
     "name": "stdout",
     "output_type": "stream",
     "text": [
      "Indiana University, Bloomington\n",
      "Police Department\n",
      "Student Right To Know CAD Daily Log\n",
      "\n",
      "From Jan 01, 2014 to Jan 01, 2014.\n",
      "Event #: 14-01-01-000002\n",
      "Date Reported: 01/01/14 - WED at 00:31\n",
      "Location : 10TH STREET/WEST OF JORDAN\n",
      "Date and Time Occurred From - Occurred To\n",
      "01/01/14 - WED at 00:30 - 01/01/14 - WED at 00:32\n",
      "Incident : LIQUOR LAWS - ILLEGAL POSSESSION/CONSUMPTION\n",
      "Report #: 140002\n",
      "Disposition: CLOSED BY ARREST\n",
      "Event #: 14-01-01-000003\n",
      "Date Reported: 01/01/14 - WED at 00:36\n",
      "Location : DELTA UPSILON\n",
      "Date and Time Occurred From - Occurred To\n",
      "01/01/14 - WED at 00:36 - 01/01/14 - WED at 01:13\n",
      "Incident : LIQUOR LAWS - ILLEGAL POSSESSION/CONSUMPTION\n",
      "Report #: 140001\n",
      "Disposition: CLOSED NO ARREST\n",
      "Event #: 14-01-01-000023\n",
      "Date Reported: 01/01/14 - WED at 10:31\n",
      "Location : ALL OTHER NON-UNIVERSITY\n",
      "Date and Time Occurred From - Occurred To\n",
      "01/01/14 - WED at 10:31 - 01/01/14 - WED at 10:31\n",
      "Incident : NARCOTIC/DRUG LAWS - POSSESSION - MARIJUANA\n",
      "Report #: 140003\n",
      "Disposition: CLOSED NO ARREST\n",
      "3 Incidents Listed.\n",
      "\n",
      "Print Date and Time\n",
      "\n",
      "1/2/2014\n",
      "\n",
      "4:02:30PM\n",
      "\n",
      "at Page No.\n",
      "\n",
      "1\n",
      "\n",
      "\f",
      "\n"
     ]
    }
   ],
   "source": [
    "print(open(fname).read())\n"
   ]
  },
  {
   "cell_type": "code",
   "execution_count": 32,
   "metadata": {
    "collapsed": false
   },
   "outputs": [
    {
     "name": "stdout",
     "output_type": "stream",
     "text": [
      "{'disposition': 'closed no arrest',\n",
      " 'event number': '14-01-01-000023',\n",
      " 'from datetime': datetime.datetime(2014, 1, 1, 10, 31),\n",
      " 'incident': 'narcotic/drug laws - possession - marijuana',\n",
      " 'location': 'all other non-university',\n",
      " 'report number': '140003',\n",
      " 'to datetime': datetime.datetime(2014, 1, 1, 10, 31)}\n"
     ]
    }
   ],
   "source": [
    "import re\n",
    "from pprint import pprint\n",
    "import datetime\n",
    "\n",
    "class Record():\n",
    "    \"\"\" class for keeping the daily IU police log \"\"\"\n",
    "\n",
    "    INFO_PATTERN = re.compile('^(location|incident|disposition|event #|report #)\\s*:\\s*(.+)', re.IGNORECASE)\n",
    "    TIME_PATTERN = re.compile('^date and time occurred.*from.*to', re.IGNORECASE)\n",
    "    \n",
    "    def __init__(self, content):\n",
    "        self.info = {} \n",
    "        \n",
    "        self.parse(content)\n",
    "\n",
    "    def parse(self, content):\n",
    "        line_itr = iter(content.splitlines())\n",
    "        for line in line_itr:\n",
    "            m = re.search(Record.INFO_PATTERN, line)\n",
    "            if m:\n",
    "                key = m.group(1).lower().replace('#', 'number')\n",
    "                val = m.group(2).lower()\n",
    "                self.info[key] = val\n",
    "                continue\n",
    "                \n",
    "            if re.match(Record.TIME_PATTERN, line):\n",
    "                line = next(line_itr)\n",
    "                t_from, t_to = self.parse_from_to_time(line)\n",
    "                self.info['from datetime'] = t_from\n",
    "                self.info['to datetime'] = t_to\n",
    "                \n",
    "    def parse_from_to_time(self, timestr):\n",
    "        fromdate, fromtime, todate, totime = timestr.split('-')\n",
    "        fromtime = fromtime.split('at')[1].strip()\n",
    "        totime = totime.split('at')[1].strip()\n",
    "        t_from = datetime.datetime.strptime(' '.join([fromdate.strip(), fromtime]), '%m/%d/%y %H:%M')\n",
    "        t_to = datetime.datetime.strptime(' '.join([todate.strip(), totime]), '%m/%d/%y %H:%M')\n",
    "        return (t_from, t_to)\n",
    "                \n",
    "r = Record(open(fname).read())\n",
    "\n",
    "# assert(r.info['location'] == 'indiana memorial union')\n",
    "# assert(r.info['incident'] == 'all other offenses - trespass & malicious trespass')\n",
    "\n",
    "pprint(r.info)"
   ]
  },
  {
   "cell_type": "code",
   "execution_count": null,
   "metadata": {
    "collapsed": true
   },
   "outputs": [],
   "source": []
  }
 ],
 "metadata": {
  "anaconda-cloud": {},
  "kernelspec": {
   "display_name": "Python [Root]",
   "language": "python",
   "name": "Python [Root]"
  },
  "language_info": {
   "codemirror_mode": {
    "name": "ipython",
    "version": 3
   },
   "file_extension": ".py",
   "mimetype": "text/x-python",
   "name": "python",
   "nbconvert_exporter": "python",
   "pygments_lexer": "ipython3",
   "version": "3.5.2"
  }
 },
 "nbformat": 4,
 "nbformat_minor": 1
}
