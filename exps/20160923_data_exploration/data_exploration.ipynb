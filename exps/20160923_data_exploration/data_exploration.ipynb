{
 "cells": [
  {
   "cell_type": "code",
   "execution_count": 17,
   "metadata": {
    "collapsed": true
   },
   "outputs": [],
   "source": [
    "import os\n",
    "import iucrime.parse"
   ]
  },
  {
   "cell_type": "code",
   "execution_count": 18,
   "metadata": {
    "collapsed": true
   },
   "outputs": [],
   "source": [
    "dates = ['1-1-13', '1-13-16', '2-8-14']\n",
    "path = '../../data'"
   ]
  },
  {
   "cell_type": "markdown",
   "metadata": {},
   "source": [
    "Let's just pick one data file and take a look"
   ]
  },
  {
   "cell_type": "code",
   "execution_count": 12,
   "metadata": {
    "collapsed": false
   },
   "outputs": [
    {
     "data": {
      "text/plain": [
       "'../../data/text/1-1-13.txt'"
      ]
     },
     "execution_count": 12,
     "metadata": {},
     "output_type": "execute_result"
    }
   ],
   "source": [
    "fname = os.path.join(path, 'text', dates[0] + '.txt')\n",
    "fname"
   ]
  },
  {
   "cell_type": "code",
   "execution_count": 14,
   "metadata": {
    "collapsed": false
   },
   "outputs": [
    {
     "name": "stdout",
     "output_type": "stream",
     "text": [
      "Indiana University, Bloomington\n",
      "Police Department\n",
      "Student Right To Know CAD Daily Log\n",
      "\n",
      "From Jan 01, 2013 to Jan 01, 2013.\n",
      "Date Reported: 01/01/13 - TUE at 23:49\n",
      "Location : INDIANA MEMORIAL UNION\n",
      "Date and Time Occurred From - Occurred To\n",
      "01/01/13 - TUE at 23:45 - 01/01/13 - TUE at 23:52\n",
      "Incident : ALL OTHER OFFENSES - TRESPASS & MALICIOUS TRESPASS\n",
      "Disposition: CLOSED BY ARREST\n",
      "\n",
      "Event #: 13-01-01-000047\n",
      "Report #: 130002\n",
      "\n",
      "1 Incidents Listed.\n",
      "\n",
      "Print Date and Time\n",
      "\n",
      "1/2/2013\n",
      "\n",
      "6:02:05PM\n",
      "\n",
      "at Page No.\n",
      "\n",
      "1\n",
      "\n",
      "\f",
      "\n"
     ]
    }
   ],
   "source": [
    "print(open(fname).read())"
   ]
  },
  {
   "cell_type": "code",
   "execution_count": 16,
   "metadata": {
    "collapsed": false
   },
   "outputs": [],
   "source": []
  },
  {
   "cell_type": "code",
   "execution_count": null,
   "metadata": {
    "collapsed": true
   },
   "outputs": [],
   "source": []
  }
 ],
 "metadata": {
  "kernelspec": {
   "display_name": "Python 3",
   "language": "python",
   "name": "python3"
  },
  "language_info": {
   "codemirror_mode": {
    "name": "ipython",
    "version": 3
   },
   "file_extension": ".py",
   "mimetype": "text/x-python",
   "name": "python",
   "nbconvert_exporter": "python",
   "pygments_lexer": "ipython3",
   "version": "3.5.2"
  }
 },
 "nbformat": 4,
 "nbformat_minor": 1
}
